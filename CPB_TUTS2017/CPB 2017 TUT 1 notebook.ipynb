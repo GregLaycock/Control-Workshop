{
 "cells": [
  {
   "cell_type": "code",
   "execution_count": 88,
   "metadata": {
    "collapsed": false
   },
   "outputs": [],
   "source": [
    "import sympy as sp\n",
    "import cmath\n",
    "import math\n"
   ]
  },
  {
   "cell_type": "code",
   "execution_count": 198,
   "metadata": {
    "collapsed": false
   },
   "outputs": [
    {
     "name": "stdout",
     "output_type": "stream",
     "text": [
      "           -5.0⋅ⅈ             \n",
      "──────────────────────────────\n",
      "w⋅(1.0⋅ⅈ⋅w + 2)⋅(1.0⋅ⅈ⋅w + 10)\n"
     ]
    }
   ],
   "source": [
    "#Question 1 (note that python uses 1j as i in complex math)\n",
    "e = math.e\n",
    "sp.init_printing()\n",
    "s = sp.Symbol('s')\n",
    "t = sp.Symbol('t',real = True,positive = True)\n",
    "Gp = 5/((s+2)*(s+10)*s)\n",
    "w = sp.Symbol('w',real=True)\n",
    "Gp_jw = Gp.subs(s,1j*w)\n",
    "Gp_jw\n",
    "\n",
    "# we remove dead time because it makes getting the phase difficult because python does not automatically convert numeric e**(jk) into cis(k)\n",
    "# we simply add the coeff of s in the e**(ks) term to the phase angle at the end"
   ]
  },
  {
   "cell_type": "code",
   "execution_count": 122,
   "metadata": {
    "collapsed": false
   },
   "outputs": [],
   "source": [
    "from numpy import linspace\n",
    "wvals = linspace(0,10,1000)\n",
    "Gp_jw_vals = [Gp_jw.subs(w,i) for i in wvals]\n",
    "AR_vals = [abs(i) for i in Gp_jw_vals]\n",
    "phi_vals = [cmath.phase(i) for i in Gp_jw_vals]\n",
    "phi_vals = [i-2 for i in phi_vals]\n",
    "\n"
   ]
  },
  {
   "cell_type": "code",
   "execution_count": 123,
   "metadata": {
    "collapsed": false
   },
   "outputs": [
    {
     "data": {
      "text/plain": [
       "<matplotlib.figure.Figure at 0x8a140d0>"
      ]
     },
     "execution_count": 123,
     "metadata": {},
     "output_type": "execute_result"
    },
    {
     "data": {
      "text/plain": [
       "<matplotlib.figure.Figure at 0x8a140d0>"
      ]
     },
     "metadata": {},
     "output_type": "display_data"
    }
   ],
   "source": [
    "from matplotlib import pyplot as plt\n",
    "%matplotlib inline\n",
    "plt.figure()"
   ]
  },
  {
   "cell_type": "code",
   "execution_count": 124,
   "metadata": {
    "collapsed": false
   },
   "outputs": [
    {
     "data": {
      "text/plain": [
       "<matplotlib.text.Text at 0x881eb10>"
      ]
     },
     "execution_count": 124,
     "metadata": {},
     "output_type": "execute_result"
    },
    {
     "data": {
      "image/png": "[encoded data removed]",
      "text/plain": [
       "<matplotlib.figure.Figure at 0x7c74990>"
      ]
     },
     "metadata": {},
     "output_type": "display_data"
    },
    {
     "data": {
      "image/png": "[encoded data removed]",
      "text/plain": [
       "<matplotlib.figure.Figure at 0x8897710>"
      ]
     },
     "metadata": {},
     "output_type": "display_data"
    }
   ],
   "source": [
    "plt.plot(wvals,phi_vals)\n",
    "plt.title(\"phase angle\")\n",
    "plt.figure(2)\n",
    "plt.plot(wvals,AR_vals)\n",
    "plt.title(\"amplitude ratio\")"
   ]
  },
  {
   "cell_type": "code",
   "execution_count": 205,
   "metadata": {
    "collapsed": false
   },
   "outputs": [],
   "source": [
    "# Question 2\n",
    "#i)\n",
    "\n",
    "CA,CAo,CAs,dCAdt,dCAsdt,k,V,F,Fs,CAo_initial = sp.symbols('CA,CAo,CAs,CA_bar,CAs_bar,k,V,F,Fs,CAo_init')\n",
    "\n",
    "s = sp.Symbol('s')\n",
    "t = sp.Symbol('t',real=True,positive=True)"
   ]
  },
  {
   "cell_type": "code",
   "execution_count": 196,
   "metadata": {
    "collapsed": false
   },
   "outputs": [],
   "source": [
    "#1 (in deviation vars)\n",
    "f1 = dCAdt + CA - CAo +k*CA*V/F # k*CA is for reaction rate\n",
    "f2 = dCAsdt -CA + CAs + k*CAs*V/Fs\n",
    "\n",
    "### in laplace\n",
    "F1 = f1.subs(dCAdt,s*CA)\n",
    "F2 = f2.subs(dCAsdt,s*CAs)\n",
    "var = [CA,CAo]\n",
    "\n",
    "solved = sp.solve(F1,F2,CA)[0]\n",
    "tf = solved[CA]/CAo"
   ]
  },
  {
   "cell_type": "code",
   "execution_count": 200,
   "metadata": {
    "collapsed": false
   },
   "outputs": [
    {
     "name": "stdout",
     "output_type": "stream",
     "text": [
      "      F      \n",
      "─────────────\n",
      "F⋅s + F + V⋅k\n"
     ]
    }
   ],
   "source": [
    "sp.init_printing()\n",
    "tf\n",
    "# this is the transfer function for the system relating output CA to input u"
   ]
  },
  {
   "cell_type": "code",
   "execution_count": 207,
   "metadata": {
    "collapsed": false
   },
   "outputs": [
    {
     "name": "stdout",
     "output_type": "stream",
     "text": [
      "0.2*CAo_init*F/(s*(F*s + F + V*k))\n"
     ]
    }
   ],
   "source": [
    "#ii) \n",
    "# note since we are working with deviation vars this is essentially just a step input of 0.2*CAo =\n",
    "u = 0.2*CAo_initial/s\n",
    "ans = tf*u\n",
    "print (ans.simplify())"
   ]
  },
  {
   "cell_type": "code",
   "execution_count": 208,
   "metadata": {
    "collapsed": true
   },
   "outputs": [],
   "source": [
    "# QUestion 3\n",
    "00\n"
   ]
  },
  {
   "cell_type": "code",
   "execution_count": null,
   "metadata": {
    "collapsed": true
   },
   "outputs": [],
   "source": []
  }
 ],
 "metadata": {
  "kernelspec": {
   "display_name": "Python 3",
   "language": "python",
   "name": "python3"
  },
  "language_info": {
   "codemirror_mode": {
    "name": "ipython",
    "version": 3
   },
   "file_extension": ".py",
   "mimetype": "text/x-python",
   "name": "python",
   "nbconvert_exporter": "python",
   "pygments_lexer": "ipython3",
   "version": "3.4.3"
  }
 },
 "nbformat": 4,
 "nbformat_minor": 0
}
